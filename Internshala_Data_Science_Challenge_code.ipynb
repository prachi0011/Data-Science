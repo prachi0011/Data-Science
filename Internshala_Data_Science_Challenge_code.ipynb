{
  "nbformat": 4,
  "nbformat_minor": 0,
  "metadata": {
    "colab": {
      "name": "Internshala_Data_Science_Challenge.ipynb",
      "provenance": [],
      "collapsed_sections": []
    },
    "kernelspec": {
      "name": "python3",
      "display_name": "Python 3"
    },
    "language_info": {
      "name": "python"
    }
  },
  "cells": [
    {
      "cell_type": "markdown",
      "metadata": {
        "id": "xHHMqOmnT3pA"
      },
      "source": [
        "# Internshala Data Science Challenge\n",
        "#Loan Predication\n",
        "## Problem Statement:\n",
        "#### Your client is an Insurance company and they need your help in building a model to predict whether the policyholder (customer) will pay next premium on time or not"
      ]
    },
    {
      "cell_type": "code",
      "metadata": {
        "id": "wO4Im_0lUmXP"
      },
      "source": [
        "# importing libraries\n",
        "import numpy as np\n",
        "import pandas as pd\n",
        "import matplotlib.pyplot as plt\n",
        "import seaborn as sn\n",
        "%matplotlib inline"
      ],
      "execution_count": 1,
      "outputs": []
    },
    {
      "cell_type": "code",
      "metadata": {
        "id": "9soEt32oUtev"
      },
      "source": [
        "# loading the data\n",
        "from google.colab import drive\n",
        "#drive.mount('/content/drive')   #----->already mounted drive \n",
        "train = pd.read_csv(\"/content/drive/MyDrive/Colab Notebooks/Internshala+AV Project/train.csv\")\n",
        "test = pd.read_csv(\"/content/drive/MyDrive/Colab Notebooks/Internshala+AV Project/Test.csv\")"
      ],
      "execution_count": 2,
      "outputs": []
    },
    {
      "cell_type": "code",
      "metadata": {
        "colab": {
          "base_uri": "https://localhost:8080/"
        },
        "id": "ZrlCYuFaWBh5",
        "outputId": "7cdd6855-3516-4fef-be43-0f9f46c9708d"
      },
      "source": [
        "#shape of train, test dataset\n",
        "train.shape, test.shape"
      ],
      "execution_count": 3,
      "outputs": [
        {
          "output_type": "execute_result",
          "data": {
            "text/plain": [
              "((79853, 12), (34224, 11))"
            ]
          },
          "metadata": {
            "tags": []
          },
          "execution_count": 3
        }
      ]
    },
    {
      "cell_type": "code",
      "metadata": {
        "colab": {
          "base_uri": "https://localhost:8080/",
          "height": 243
        },
        "id": "TJRars1mMLAe",
        "outputId": "837f7746-27dc-41d5-d068-4827e0764a2a"
      },
      "source": [
        "#show data of train dataset\n",
        "train.head()"
      ],
      "execution_count": 4,
      "outputs": [
        {
          "output_type": "execute_result",
          "data": {
            "text/html": [
              "<div>\n",
              "<style scoped>\n",
              "    .dataframe tbody tr th:only-of-type {\n",
              "        vertical-align: middle;\n",
              "    }\n",
              "\n",
              "    .dataframe tbody tr th {\n",
              "        vertical-align: top;\n",
              "    }\n",
              "\n",
              "    .dataframe thead th {\n",
              "        text-align: right;\n",
              "    }\n",
              "</style>\n",
              "<table border=\"1\" class=\"dataframe\">\n",
              "  <thead>\n",
              "    <tr style=\"text-align: right;\">\n",
              "      <th></th>\n",
              "      <th>id</th>\n",
              "      <th>perc_premium_paid_by_cash_credit</th>\n",
              "      <th>age_in_days</th>\n",
              "      <th>Income</th>\n",
              "      <th>Count_3-6_months_late</th>\n",
              "      <th>Count_6-12_months_late</th>\n",
              "      <th>Count_more_than_12_months_late</th>\n",
              "      <th>application_underwriting_score</th>\n",
              "      <th>no_of_premiums_paid</th>\n",
              "      <th>sourcing_channel</th>\n",
              "      <th>residence_area_type</th>\n",
              "      <th>target</th>\n",
              "    </tr>\n",
              "  </thead>\n",
              "  <tbody>\n",
              "    <tr>\n",
              "      <th>0</th>\n",
              "      <td>110936</td>\n",
              "      <td>0.429</td>\n",
              "      <td>12058</td>\n",
              "      <td>355060</td>\n",
              "      <td>0.0</td>\n",
              "      <td>0.0</td>\n",
              "      <td>0.0</td>\n",
              "      <td>99.02</td>\n",
              "      <td>13</td>\n",
              "      <td>C</td>\n",
              "      <td>Urban</td>\n",
              "      <td>1</td>\n",
              "    </tr>\n",
              "    <tr>\n",
              "      <th>1</th>\n",
              "      <td>41492</td>\n",
              "      <td>0.010</td>\n",
              "      <td>21546</td>\n",
              "      <td>315150</td>\n",
              "      <td>0.0</td>\n",
              "      <td>0.0</td>\n",
              "      <td>0.0</td>\n",
              "      <td>99.89</td>\n",
              "      <td>21</td>\n",
              "      <td>A</td>\n",
              "      <td>Urban</td>\n",
              "      <td>1</td>\n",
              "    </tr>\n",
              "    <tr>\n",
              "      <th>2</th>\n",
              "      <td>31300</td>\n",
              "      <td>0.917</td>\n",
              "      <td>17531</td>\n",
              "      <td>84140</td>\n",
              "      <td>2.0</td>\n",
              "      <td>3.0</td>\n",
              "      <td>1.0</td>\n",
              "      <td>98.69</td>\n",
              "      <td>7</td>\n",
              "      <td>C</td>\n",
              "      <td>Rural</td>\n",
              "      <td>0</td>\n",
              "    </tr>\n",
              "    <tr>\n",
              "      <th>3</th>\n",
              "      <td>19415</td>\n",
              "      <td>0.049</td>\n",
              "      <td>15341</td>\n",
              "      <td>250510</td>\n",
              "      <td>0.0</td>\n",
              "      <td>0.0</td>\n",
              "      <td>0.0</td>\n",
              "      <td>99.57</td>\n",
              "      <td>9</td>\n",
              "      <td>A</td>\n",
              "      <td>Urban</td>\n",
              "      <td>1</td>\n",
              "    </tr>\n",
              "    <tr>\n",
              "      <th>4</th>\n",
              "      <td>99379</td>\n",
              "      <td>0.052</td>\n",
              "      <td>31400</td>\n",
              "      <td>198680</td>\n",
              "      <td>0.0</td>\n",
              "      <td>0.0</td>\n",
              "      <td>0.0</td>\n",
              "      <td>99.87</td>\n",
              "      <td>12</td>\n",
              "      <td>B</td>\n",
              "      <td>Urban</td>\n",
              "      <td>1</td>\n",
              "    </tr>\n",
              "  </tbody>\n",
              "</table>\n",
              "</div>"
            ],
            "text/plain": [
              "       id  perc_premium_paid_by_cash_credit  ...  residence_area_type  target\n",
              "0  110936                             0.429  ...                Urban       1\n",
              "1   41492                             0.010  ...                Urban       1\n",
              "2   31300                             0.917  ...                Rural       0\n",
              "3   19415                             0.049  ...                Urban       1\n",
              "4   99379                             0.052  ...                Urban       1\n",
              "\n",
              "[5 rows x 12 columns]"
            ]
          },
          "metadata": {
            "tags": []
          },
          "execution_count": 4
        }
      ]
    },
    {
      "cell_type": "code",
      "metadata": {
        "colab": {
          "base_uri": "https://localhost:8080/",
          "height": 243
        },
        "id": "XgIWq0OgMRbZ",
        "outputId": "b500a86e-abb7-49fc-ab56-01a19c2bef52"
      },
      "source": [
        "#show test data\n",
        "test.head()"
      ],
      "execution_count": 5,
      "outputs": [
        {
          "output_type": "execute_result",
          "data": {
            "text/html": [
              "<div>\n",
              "<style scoped>\n",
              "    .dataframe tbody tr th:only-of-type {\n",
              "        vertical-align: middle;\n",
              "    }\n",
              "\n",
              "    .dataframe tbody tr th {\n",
              "        vertical-align: top;\n",
              "    }\n",
              "\n",
              "    .dataframe thead th {\n",
              "        text-align: right;\n",
              "    }\n",
              "</style>\n",
              "<table border=\"1\" class=\"dataframe\">\n",
              "  <thead>\n",
              "    <tr style=\"text-align: right;\">\n",
              "      <th></th>\n",
              "      <th>id</th>\n",
              "      <th>perc_premium_paid_by_cash_credit</th>\n",
              "      <th>age_in_days</th>\n",
              "      <th>Income</th>\n",
              "      <th>Count_3-6_months_late</th>\n",
              "      <th>Count_6-12_months_late</th>\n",
              "      <th>Count_more_than_12_months_late</th>\n",
              "      <th>application_underwriting_score</th>\n",
              "      <th>no_of_premiums_paid</th>\n",
              "      <th>sourcing_channel</th>\n",
              "      <th>residence_area_type</th>\n",
              "    </tr>\n",
              "  </thead>\n",
              "  <tbody>\n",
              "    <tr>\n",
              "      <th>0</th>\n",
              "      <td>649</td>\n",
              "      <td>0.001</td>\n",
              "      <td>27384</td>\n",
              "      <td>51150</td>\n",
              "      <td>0.0</td>\n",
              "      <td>0.0</td>\n",
              "      <td>0.0</td>\n",
              "      <td>99.89</td>\n",
              "      <td>7</td>\n",
              "      <td>A</td>\n",
              "      <td>Rural</td>\n",
              "    </tr>\n",
              "    <tr>\n",
              "      <th>1</th>\n",
              "      <td>81136</td>\n",
              "      <td>0.124</td>\n",
              "      <td>23735</td>\n",
              "      <td>285140</td>\n",
              "      <td>0.0</td>\n",
              "      <td>0.0</td>\n",
              "      <td>0.0</td>\n",
              "      <td>98.93</td>\n",
              "      <td>19</td>\n",
              "      <td>A</td>\n",
              "      <td>Urban</td>\n",
              "    </tr>\n",
              "    <tr>\n",
              "      <th>2</th>\n",
              "      <td>70762</td>\n",
              "      <td>1.000</td>\n",
              "      <td>17170</td>\n",
              "      <td>186030</td>\n",
              "      <td>0.0</td>\n",
              "      <td>0.0</td>\n",
              "      <td>0.0</td>\n",
              "      <td>NaN</td>\n",
              "      <td>2</td>\n",
              "      <td>B</td>\n",
              "      <td>Urban</td>\n",
              "    </tr>\n",
              "    <tr>\n",
              "      <th>3</th>\n",
              "      <td>53935</td>\n",
              "      <td>0.198</td>\n",
              "      <td>16068</td>\n",
              "      <td>123540</td>\n",
              "      <td>0.0</td>\n",
              "      <td>0.0</td>\n",
              "      <td>0.0</td>\n",
              "      <td>99.00</td>\n",
              "      <td>11</td>\n",
              "      <td>B</td>\n",
              "      <td>Rural</td>\n",
              "    </tr>\n",
              "    <tr>\n",
              "      <th>4</th>\n",
              "      <td>15476</td>\n",
              "      <td>0.041</td>\n",
              "      <td>10591</td>\n",
              "      <td>200020</td>\n",
              "      <td>1.0</td>\n",
              "      <td>0.0</td>\n",
              "      <td>0.0</td>\n",
              "      <td>99.17</td>\n",
              "      <td>14</td>\n",
              "      <td>A</td>\n",
              "      <td>Rural</td>\n",
              "    </tr>\n",
              "  </tbody>\n",
              "</table>\n",
              "</div>"
            ],
            "text/plain": [
              "      id  perc_premium_paid_by_cash_credit  ...  sourcing_channel  residence_area_type\n",
              "0    649                             0.001  ...                 A                Rural\n",
              "1  81136                             0.124  ...                 A                Urban\n",
              "2  70762                             1.000  ...                 B                Urban\n",
              "3  53935                             0.198  ...                 B                Rural\n",
              "4  15476                             0.041  ...                 A                Rural\n",
              "\n",
              "[5 rows x 11 columns]"
            ]
          },
          "metadata": {
            "tags": []
          },
          "execution_count": 5
        }
      ]
    },
    {
      "cell_type": "code",
      "metadata": {
        "colab": {
          "base_uri": "https://localhost:8080/"
        },
        "id": "d3iBNMkoMezw",
        "outputId": "aa5a6e38-c3b5-4752-df3e-89282ad82447"
      },
      "source": [
        "test.dtypes"
      ],
      "execution_count": 6,
      "outputs": [
        {
          "output_type": "execute_result",
          "data": {
            "text/plain": [
              "id                                    int64\n",
              "perc_premium_paid_by_cash_credit    float64\n",
              "age_in_days                           int64\n",
              "Income                                int64\n",
              "Count_3-6_months_late               float64\n",
              "Count_6-12_months_late              float64\n",
              "Count_more_than_12_months_late      float64\n",
              "application_underwriting_score      float64\n",
              "no_of_premiums_paid                   int64\n",
              "sourcing_channel                     object\n",
              "residence_area_type                  object\n",
              "dtype: object"
            ]
          },
          "metadata": {
            "tags": []
          },
          "execution_count": 6
        }
      ]
    },
    {
      "cell_type": "code",
      "metadata": {
        "colab": {
          "base_uri": "https://localhost:8080/"
        },
        "id": "wzr1ZgW8MsjK",
        "outputId": "f81d88e7-2cd5-44a1-90c4-f6740ebd48f9"
      },
      "source": [
        "train.dtypes"
      ],
      "execution_count": 7,
      "outputs": [
        {
          "output_type": "execute_result",
          "data": {
            "text/plain": [
              "id                                    int64\n",
              "perc_premium_paid_by_cash_credit    float64\n",
              "age_in_days                           int64\n",
              "Income                                int64\n",
              "Count_3-6_months_late               float64\n",
              "Count_6-12_months_late              float64\n",
              "Count_more_than_12_months_late      float64\n",
              "application_underwriting_score      float64\n",
              "no_of_premiums_paid                   int64\n",
              "sourcing_channel                     object\n",
              "residence_area_type                  object\n",
              "target                                int64\n",
              "dtype: object"
            ]
          },
          "metadata": {
            "tags": []
          },
          "execution_count": 7
        }
      ]
    },
    {
      "cell_type": "markdown",
      "metadata": {
        "id": "IzA-u81oWpr4"
      },
      "source": [
        "### **sourcing_channel** and **residence_area_type** are categorical dataset\n",
        "### ***target*** is our dependent variable"
      ]
    },
    {
      "cell_type": "code",
      "metadata": {
        "colab": {
          "base_uri": "https://localhost:8080/"
        },
        "id": "TNKtk7ijMu44",
        "outputId": "62ab4eb4-115a-4a91-8d9c-8f9f6423ebfa"
      },
      "source": [
        "train.info()"
      ],
      "execution_count": 8,
      "outputs": [
        {
          "output_type": "stream",
          "text": [
            "<class 'pandas.core.frame.DataFrame'>\n",
            "RangeIndex: 79853 entries, 0 to 79852\n",
            "Data columns (total 12 columns):\n",
            " #   Column                            Non-Null Count  Dtype  \n",
            "---  ------                            --------------  -----  \n",
            " 0   id                                79853 non-null  int64  \n",
            " 1   perc_premium_paid_by_cash_credit  79853 non-null  float64\n",
            " 2   age_in_days                       79853 non-null  int64  \n",
            " 3   Income                            79853 non-null  int64  \n",
            " 4   Count_3-6_months_late             79756 non-null  float64\n",
            " 5   Count_6-12_months_late            79756 non-null  float64\n",
            " 6   Count_more_than_12_months_late    79756 non-null  float64\n",
            " 7   application_underwriting_score    76879 non-null  float64\n",
            " 8   no_of_premiums_paid               79853 non-null  int64  \n",
            " 9   sourcing_channel                  79853 non-null  object \n",
            " 10  residence_area_type               79853 non-null  object \n",
            " 11  target                            79853 non-null  int64  \n",
            "dtypes: float64(5), int64(5), object(2)\n",
            "memory usage: 7.3+ MB\n"
          ],
          "name": "stdout"
        }
      ]
    },
    {
      "cell_type": "code",
      "metadata": {
        "colab": {
          "base_uri": "https://localhost:8080/"
        },
        "id": "IodNih_fM6vY",
        "outputId": "9c7beec8-32e6-4bf8-ce0f-830a89a38a29"
      },
      "source": [
        "test.columns"
      ],
      "execution_count": 9,
      "outputs": [
        {
          "output_type": "execute_result",
          "data": {
            "text/plain": [
              "Index(['id', 'perc_premium_paid_by_cash_credit', 'age_in_days', 'Income',\n",
              "       'Count_3-6_months_late', 'Count_6-12_months_late',\n",
              "       'Count_more_than_12_months_late', 'application_underwriting_score',\n",
              "       'no_of_premiums_paid', 'sourcing_channel', 'residence_area_type'],\n",
              "      dtype='object')"
            ]
          },
          "metadata": {
            "tags": []
          },
          "execution_count": 9
        }
      ]
    },
    {
      "cell_type": "markdown",
      "metadata": {
        "id": "ymAr3n_ZNBby"
      },
      "source": [
        "### **univariate Analysis of target column**"
      ]
    },
    {
      "cell_type": "code",
      "metadata": {
        "id": "_8O4Ewk3NAFR",
        "colab": {
          "base_uri": "https://localhost:8080/",
          "height": 778
        },
        "outputId": "4fe535e8-a9cb-4ea3-8879-8917e092e0a6"
      },
      "source": [
        "# looking at the correlation between numerical variables\n",
        "corr = train[['id','perc_premium_paid_by_cash_credit', 'age_in_days', 'Income',\n",
        "       'Count_3-6_months_late', 'Count_6-12_months_late',\n",
        "       'Count_more_than_12_months_late', 'application_underwriting_score',\n",
        "       'no_of_premiums_paid', 'target']].corr()\n",
        "mask = np.array(corr)\n",
        "mask[np.tril_indices_from(mask)] = False\n",
        "fig,ax= plt.subplots()\n",
        "fig.set_size_inches(20,10)\n",
        "sn.heatmap(corr, mask=mask,vmax=.9, square=True,annot=True)"
      ],
      "execution_count": 10,
      "outputs": [
        {
          "output_type": "execute_result",
          "data": {
            "text/plain": [
              "<matplotlib.axes._subplots.AxesSubplot at 0x7fc9107bc110>"
            ]
          },
          "metadata": {
            "tags": []
          },
          "execution_count": 10
        },
        {
          "output_type": "display_data",
          "data": {
            "image/png": "[encoded data removed]",
            "text/plain": [
              "<Figure size 1440x720 with 2 Axes>"
            ]
          },
          "metadata": {
            "tags": [],
            "needs_background": "light"
          }
        }
      ]
    },
    {
      "cell_type": "code",
      "metadata": {
        "colab": {
          "base_uri": "https://localhost:8080/",
          "height": 356
        },
        "id": "DIZ_aqIyga1l",
        "outputId": "4da6c6fa-3851-410e-ea87-d857355e204a"
      },
      "source": [
        "# distribution of count variable\n",
        "sn.distplot(train[\"target\"])"
      ],
      "execution_count": 11,
      "outputs": [
        {
          "output_type": "stream",
          "text": [
            "/usr/local/lib/python3.7/dist-packages/seaborn/distributions.py:2557: FutureWarning: `distplot` is a deprecated function and will be removed in a future version. Please adapt your code to use either `displot` (a figure-level function with similar flexibility) or `histplot` (an axes-level function for histograms).\n",
            "  warnings.warn(msg, FutureWarning)\n"
          ],
          "name": "stderr"
        },
        {
          "output_type": "execute_result",
          "data": {
            "text/plain": [
              "<matplotlib.axes._subplots.AxesSubplot at 0x7fc9060c9790>"
            ]
          },
          "metadata": {
            "tags": []
          },
          "execution_count": 11
        },
        {
          "output_type": "display_data",
          "data": {
            "image/png": "[encoded data removed]",
            "text/plain": [
              "<Figure size 432x288 with 1 Axes>"
            ]
          },
          "metadata": {
            "tags": [],
            "needs_background": "light"
          }
        }
      ]
    },
    {
      "cell_type": "code",
      "metadata": {
        "colab": {
          "base_uri": "https://localhost:8080/",
          "height": 368
        },
        "id": "HrGqcqHG_dfT",
        "outputId": "8cca65ec-15fd-4a89-e5c4-b13d3a1a53fb"
      },
      "source": [
        "sn.distplot(train[\"age_in_days\"])"
      ],
      "execution_count": 12,
      "outputs": [
        {
          "output_type": "stream",
          "text": [
            "/usr/local/lib/python3.7/dist-packages/seaborn/distributions.py:2557: FutureWarning: `distplot` is a deprecated function and will be removed in a future version. Please adapt your code to use either `displot` (a figure-level function with similar flexibility) or `histplot` (an axes-level function for histograms).\n",
            "  warnings.warn(msg, FutureWarning)\n"
          ],
          "name": "stderr"
        },
        {
          "output_type": "execute_result",
          "data": {
            "text/plain": [
              "<matplotlib.axes._subplots.AxesSubplot at 0x7fc9060f5dd0>"
            ]
          },
          "metadata": {
            "tags": []
          },
          "execution_count": 12
        },
        {
          "output_type": "display_data",
          "data": {
            "image/png": "[encoded data removed]",
            "text/plain": [
              "<Figure size 432x288 with 1 Axes>"
            ]
          },
          "metadata": {
            "tags": [],
            "needs_background": "light"
          }
        }
      ]
    },
    {
      "cell_type": "code",
      "metadata": {
        "colab": {
          "base_uri": "https://localhost:8080/"
        },
        "id": "KbLPoyjN8KKe",
        "outputId": "479fb00c-923e-45c2-f342-92fbf62248eb"
      },
      "source": [
        "#categorical-continuous varible bivariate analysis\n",
        "from scipy.stats import chi2_contingency\n",
        "chi2_contingency(pd.crosstab(train['residence_area_type'], train['target']))\n"
      ],
      "execution_count": 13,
      "outputs": [
        {
          "output_type": "execute_result",
          "data": {
            "text/plain": [
              "(0.2080863817891421,\n",
              " 0.6482714305747836,\n",
              " 1,\n",
              " array([[ 1982.22558952, 29687.77441048],\n",
              "        [ 3015.77441048, 45167.22558952]]))"
            ]
          },
          "metadata": {
            "tags": []
          },
          "execution_count": 13
        }
      ]
    },
    {
      "cell_type": "code",
      "metadata": {
        "colab": {
          "base_uri": "https://localhost:8080/"
        },
        "id": "xPNUH7tXG11e",
        "outputId": "b1b7ab14-22af-4d01-95ee-e9aa588e26bd"
      },
      "source": [
        "chi2_contingency(pd.crosstab(train['sourcing_channel'], train['target']))"
      ],
      "execution_count": 14,
      "outputs": [
        {
          "output_type": "execute_result",
          "data": {
            "text/plain": [
              "(141.43673259821205,\n",
              " 1.390061884429808e-29,\n",
              " 4,\n",
              " array([[2.69975745e+03, 4.04342425e+04],\n",
              "        [1.03348623e+03, 1.54785138e+04],\n",
              "        [7.53521120e+02, 1.12854789e+04],\n",
              "        [4.73117879e+02, 7.08588212e+03],\n",
              "        [3.81173156e+01, 5.70882684e+02]]))"
            ]
          },
          "metadata": {
            "tags": []
          },
          "execution_count": 14
        }
      ]
    },
    {
      "cell_type": "code",
      "metadata": {
        "colab": {
          "base_uri": "https://localhost:8080/"
        },
        "id": "8DdfP6zMHqYk",
        "outputId": "b2298497-e6b1-4a41-ec8e-0c524731c38f"
      },
      "source": [
        "#treat missing values\n",
        "train.isnull().sum()"
      ],
      "execution_count": 15,
      "outputs": [
        {
          "output_type": "execute_result",
          "data": {
            "text/plain": [
              "id                                     0\n",
              "perc_premium_paid_by_cash_credit       0\n",
              "age_in_days                            0\n",
              "Income                                 0\n",
              "Count_3-6_months_late                 97\n",
              "Count_6-12_months_late                97\n",
              "Count_more_than_12_months_late        97\n",
              "application_underwriting_score      2974\n",
              "no_of_premiums_paid                    0\n",
              "sourcing_channel                       0\n",
              "residence_area_type                    0\n",
              "target                                 0\n",
              "dtype: int64"
            ]
          },
          "metadata": {
            "tags": []
          },
          "execution_count": 15
        }
      ]
    },
    {
      "cell_type": "code",
      "metadata": {
        "id": "0UQB1snIIDge"
      },
      "source": [
        "train['Count_3-6_months_late'].fillna(train['Count_3-6_months_late'].median(), inplace=True)\n",
        "train['Count_6-12_months_late'].fillna(train['Count_6-12_months_late'].median(), inplace=True)\n",
        "train['Count_more_than_12_months_late'].fillna(train['Count_more_than_12_months_late'].median(), inplace=True)"
      ],
      "execution_count": 16,
      "outputs": []
    },
    {
      "cell_type": "code",
      "metadata": {
        "id": "MGyUaxVi6M9F"
      },
      "source": [
        "train['application_underwriting_score'].fillna(train['application_underwriting_score'].median(), inplace=True)"
      ],
      "execution_count": 17,
      "outputs": []
    },
    {
      "cell_type": "code",
      "metadata": {
        "colab": {
          "base_uri": "https://localhost:8080/"
        },
        "id": "gZuKm87O6gEk",
        "outputId": "820b8785-0b79-48c5-e565-8a1604204d4c"
      },
      "source": [
        "train.isnull().sum()"
      ],
      "execution_count": 18,
      "outputs": [
        {
          "output_type": "execute_result",
          "data": {
            "text/plain": [
              "id                                  0\n",
              "perc_premium_paid_by_cash_credit    0\n",
              "age_in_days                         0\n",
              "Income                              0\n",
              "Count_3-6_months_late               0\n",
              "Count_6-12_months_late              0\n",
              "Count_more_than_12_months_late      0\n",
              "application_underwriting_score      0\n",
              "no_of_premiums_paid                 0\n",
              "sourcing_channel                    0\n",
              "residence_area_type                 0\n",
              "target                              0\n",
              "dtype: int64"
            ]
          },
          "metadata": {
            "tags": []
          },
          "execution_count": 18
        }
      ]
    },
    {
      "cell_type": "code",
      "metadata": {
        "colab": {
          "base_uri": "https://localhost:8080/",
          "height": 357
        },
        "id": "fTA9CiY57XB5",
        "outputId": "8fdf9d18-a3ae-4044-acca-3922642cd642"
      },
      "source": [
        "sn.distplot(train['Count_3-6_months_late'])"
      ],
      "execution_count": 19,
      "outputs": [
        {
          "output_type": "stream",
          "text": [
            "/usr/local/lib/python3.7/dist-packages/seaborn/distributions.py:2557: FutureWarning: `distplot` is a deprecated function and will be removed in a future version. Please adapt your code to use either `displot` (a figure-level function with similar flexibility) or `histplot` (an axes-level function for histograms).\n",
            "  warnings.warn(msg, FutureWarning)\n"
          ],
          "name": "stderr"
        },
        {
          "output_type": "execute_result",
          "data": {
            "text/plain": [
              "<matplotlib.axes._subplots.AxesSubplot at 0x7fc902c3de50>"
            ]
          },
          "metadata": {
            "tags": []
          },
          "execution_count": 19
        },
        {
          "output_type": "display_data",
          "data": {
            "image/png": "[encoded data removed]",
            "text/plain": [
              "<Figure size 432x288 with 1 Axes>"
            ]
          },
          "metadata": {
            "tags": [],
            "needs_background": "light"
          }
        }
      ]
    },
    {
      "cell_type": "code",
      "metadata": {
        "id": "eT1Chk5B7z12"
      },
      "source": [
        ""
      ],
      "execution_count": 19,
      "outputs": []
    },
    {
      "cell_type": "markdown",
      "metadata": {
        "id": "bzmvOFL9cZO3"
      },
      "source": [
        "#**balancing train data set**\n"
      ]
    },
    {
      "cell_type": "code",
      "metadata": {
        "id": "PXfmYfHShtIE"
      },
      "source": [
        "train[\"target\"] = [float(str(i).replace(\"C\", \"\")) for i in train[\"target\"]]\n",
        "train['target'] = [float(str(i).replace(\"Urban\",\"\")) for i in train['target']]"
      ],
      "execution_count": 20,
      "outputs": []
    },
    {
      "cell_type": "code",
      "metadata": {
        "colab": {
          "base_uri": "https://localhost:8080/"
        },
        "id": "p6cLHZ9_jWOi",
        "outputId": "2389de58-c2dd-4f3a-f498-c253b435aaab"
      },
      "source": [
        "train.target.value_counts()"
      ],
      "execution_count": 21,
      "outputs": [
        {
          "output_type": "execute_result",
          "data": {
            "text/plain": [
              "1.0    74855\n",
              "0.0     4998\n",
              "Name: target, dtype: int64"
            ]
          },
          "metadata": {
            "tags": []
          },
          "execution_count": 21
        }
      ]
    },
    {
      "cell_type": "code",
      "metadata": {
        "id": "x8erYonht-Cs"
      },
      "source": [
        "train = train.drop([\"sourcing_channel\"], axis=1)\n",
        "train = train.drop([\"id\"], axis=1)"
      ],
      "execution_count": 22,
      "outputs": []
    },
    {
      "cell_type": "code",
      "metadata": {
        "colab": {
          "base_uri": "https://localhost:8080/",
          "height": 285
        },
        "id": "LirXTYp8NBCL",
        "outputId": "772253df-f037-4e92-b19e-80111dffcad7"
      },
      "source": [
        "train['age_in_days'].plot.box()"
      ],
      "execution_count": 23,
      "outputs": [
        {
          "output_type": "execute_result",
          "data": {
            "text/plain": [
              "<matplotlib.axes._subplots.AxesSubplot at 0x7fc9029224d0>"
            ]
          },
          "metadata": {
            "tags": []
          },
          "execution_count": 23
        },
        {
          "output_type": "display_data",
          "data": {
            "image/png": "[encoded data removed]",
            "text/plain": [
              "<Figure size 432x288 with 1 Axes>"
            ]
          },
          "metadata": {
            "tags": [],
            "needs_background": "light"
          }
        }
      ]
    },
    {
      "cell_type": "code",
      "metadata": {
        "id": "EewJaT3VO0fT"
      },
      "source": [
        "train.loc[train['age_in_days']>34200, 'age_in_days'] = np.mean(train['age_in_days'])"
      ],
      "execution_count": 24,
      "outputs": []
    },
    {
      "cell_type": "code",
      "metadata": {
        "id": "FGrm3Fz1No6f",
        "colab": {
          "base_uri": "https://localhost:8080/",
          "height": 300
        },
        "outputId": "7ffa1319-c971-44f6-b4d1-a031878ff825"
      },
      "source": [
        "train.plot.scatter('target','age_in_days')"
      ],
      "execution_count": 25,
      "outputs": [
        {
          "output_type": "execute_result",
          "data": {
            "text/plain": [
              "<matplotlib.axes._subplots.AxesSubplot at 0x7fc902ac5f50>"
            ]
          },
          "metadata": {
            "tags": []
          },
          "execution_count": 25
        },
        {
          "output_type": "display_data",
          "data": {
            "image/png": "[encoded data removed]",
            "text/plain": [
              "<Figure size 432x288 with 1 Axes>"
            ]
          },
          "metadata": {
            "tags": [],
            "needs_background": "light"
          }
        }
      ]
    },
    {
      "cell_type": "markdown",
      "metadata": {
        "id": "665f1FHlwLXo"
      },
      "source": [
        "#**Balancing Test dataset**"
      ]
    },
    {
      "cell_type": "code",
      "metadata": {
        "colab": {
          "base_uri": "https://localhost:8080/"
        },
        "id": "VMBeZ4w8x1vS",
        "outputId": "ff3f66bd-9e66-443c-a73d-5ed6fe0f54a5"
      },
      "source": [
        "test.columns"
      ],
      "execution_count": 26,
      "outputs": [
        {
          "output_type": "execute_result",
          "data": {
            "text/plain": [
              "Index(['id', 'perc_premium_paid_by_cash_credit', 'age_in_days', 'Income',\n",
              "       'Count_3-6_months_late', 'Count_6-12_months_late',\n",
              "       'Count_more_than_12_months_late', 'application_underwriting_score',\n",
              "       'no_of_premiums_paid', 'sourcing_channel', 'residence_area_type'],\n",
              "      dtype='object')"
            ]
          },
          "metadata": {
            "tags": []
          },
          "execution_count": 26
        }
      ]
    },
    {
      "cell_type": "code",
      "metadata": {
        "colab": {
          "base_uri": "https://localhost:8080/",
          "height": 459
        },
        "id": "YdUsWlDEwK8c",
        "outputId": "2e9a793a-d3ae-4e38-8f08-eff001a691fa"
      },
      "source": [
        "test.drop([\"id\"], axis=1)\n",
        "test.drop([\"sourcing_channel\"], axis=1)"
      ],
      "execution_count": 54,
      "outputs": [
        {
          "output_type": "execute_result",
          "data": {
            "text/html": [
              "<div>\n",
              "<style scoped>\n",
              "    .dataframe tbody tr th:only-of-type {\n",
              "        vertical-align: middle;\n",
              "    }\n",
              "\n",
              "    .dataframe tbody tr th {\n",
              "        vertical-align: top;\n",
              "    }\n",
              "\n",
              "    .dataframe thead th {\n",
              "        text-align: right;\n",
              "    }\n",
              "</style>\n",
              "<table border=\"1\" class=\"dataframe\">\n",
              "  <thead>\n",
              "    <tr style=\"text-align: right;\">\n",
              "      <th></th>\n",
              "      <th>id</th>\n",
              "      <th>perc_premium_paid_by_cash_credit</th>\n",
              "      <th>age_in_days</th>\n",
              "      <th>Income</th>\n",
              "      <th>Count_3-6_months_late</th>\n",
              "      <th>Count_6-12_months_late</th>\n",
              "      <th>Count_more_than_12_months_late</th>\n",
              "      <th>application_underwriting_score</th>\n",
              "      <th>no_of_premiums_paid</th>\n",
              "      <th>residence_area_type</th>\n",
              "    </tr>\n",
              "  </thead>\n",
              "  <tbody>\n",
              "    <tr>\n",
              "      <th>0</th>\n",
              "      <td>649</td>\n",
              "      <td>0.001</td>\n",
              "      <td>27384.0</td>\n",
              "      <td>51150</td>\n",
              "      <td>0.0</td>\n",
              "      <td>0.0</td>\n",
              "      <td>0.0</td>\n",
              "      <td>99.89</td>\n",
              "      <td>7</td>\n",
              "      <td>Rural</td>\n",
              "    </tr>\n",
              "    <tr>\n",
              "      <th>1</th>\n",
              "      <td>81136</td>\n",
              "      <td>0.124</td>\n",
              "      <td>23735.0</td>\n",
              "      <td>285140</td>\n",
              "      <td>0.0</td>\n",
              "      <td>0.0</td>\n",
              "      <td>0.0</td>\n",
              "      <td>98.93</td>\n",
              "      <td>19</td>\n",
              "      <td>Urban</td>\n",
              "    </tr>\n",
              "    <tr>\n",
              "      <th>2</th>\n",
              "      <td>70762</td>\n",
              "      <td>1.000</td>\n",
              "      <td>17170.0</td>\n",
              "      <td>186030</td>\n",
              "      <td>0.0</td>\n",
              "      <td>0.0</td>\n",
              "      <td>0.0</td>\n",
              "      <td>99.21</td>\n",
              "      <td>2</td>\n",
              "      <td>Urban</td>\n",
              "    </tr>\n",
              "    <tr>\n",
              "      <th>3</th>\n",
              "      <td>53935</td>\n",
              "      <td>0.198</td>\n",
              "      <td>16068.0</td>\n",
              "      <td>123540</td>\n",
              "      <td>0.0</td>\n",
              "      <td>0.0</td>\n",
              "      <td>0.0</td>\n",
              "      <td>99.00</td>\n",
              "      <td>11</td>\n",
              "      <td>Rural</td>\n",
              "    </tr>\n",
              "    <tr>\n",
              "      <th>4</th>\n",
              "      <td>15476</td>\n",
              "      <td>0.041</td>\n",
              "      <td>10591.0</td>\n",
              "      <td>200020</td>\n",
              "      <td>1.0</td>\n",
              "      <td>0.0</td>\n",
              "      <td>0.0</td>\n",
              "      <td>99.17</td>\n",
              "      <td>14</td>\n",
              "      <td>Rural</td>\n",
              "    </tr>\n",
              "    <tr>\n",
              "      <th>...</th>\n",
              "      <td>...</td>\n",
              "      <td>...</td>\n",
              "      <td>...</td>\n",
              "      <td>...</td>\n",
              "      <td>...</td>\n",
              "      <td>...</td>\n",
              "      <td>...</td>\n",
              "      <td>...</td>\n",
              "      <td>...</td>\n",
              "      <td>...</td>\n",
              "    </tr>\n",
              "    <tr>\n",
              "      <th>34219</th>\n",
              "      <td>81988</td>\n",
              "      <td>0.227</td>\n",
              "      <td>20810.0</td>\n",
              "      <td>110240</td>\n",
              "      <td>0.0</td>\n",
              "      <td>0.0</td>\n",
              "      <td>0.0</td>\n",
              "      <td>97.52</td>\n",
              "      <td>9</td>\n",
              "      <td>Urban</td>\n",
              "    </tr>\n",
              "    <tr>\n",
              "      <th>34220</th>\n",
              "      <td>30326</td>\n",
              "      <td>0.157</td>\n",
              "      <td>19353.0</td>\n",
              "      <td>125090</td>\n",
              "      <td>0.0</td>\n",
              "      <td>0.0</td>\n",
              "      <td>0.0</td>\n",
              "      <td>99.62</td>\n",
              "      <td>7</td>\n",
              "      <td>Rural</td>\n",
              "    </tr>\n",
              "    <tr>\n",
              "      <th>34221</th>\n",
              "      <td>65749</td>\n",
              "      <td>0.325</td>\n",
              "      <td>18264.0</td>\n",
              "      <td>196570</td>\n",
              "      <td>0.0</td>\n",
              "      <td>0.0</td>\n",
              "      <td>0.0</td>\n",
              "      <td>98.58</td>\n",
              "      <td>14</td>\n",
              "      <td>Rural</td>\n",
              "    </tr>\n",
              "    <tr>\n",
              "      <th>34222</th>\n",
              "      <td>65686</td>\n",
              "      <td>0.983</td>\n",
              "      <td>16798.0</td>\n",
              "      <td>212150</td>\n",
              "      <td>1.0</td>\n",
              "      <td>0.0</td>\n",
              "      <td>1.0</td>\n",
              "      <td>98.88</td>\n",
              "      <td>10</td>\n",
              "      <td>Urban</td>\n",
              "    </tr>\n",
              "    <tr>\n",
              "      <th>34223</th>\n",
              "      <td>93826</td>\n",
              "      <td>0.005</td>\n",
              "      <td>24467.0</td>\n",
              "      <td>89190</td>\n",
              "      <td>1.0</td>\n",
              "      <td>0.0</td>\n",
              "      <td>0.0</td>\n",
              "      <td>98.00</td>\n",
              "      <td>11</td>\n",
              "      <td>Urban</td>\n",
              "    </tr>\n",
              "  </tbody>\n",
              "</table>\n",
              "<p>34224 rows × 10 columns</p>\n",
              "</div>"
            ],
            "text/plain": [
              "          id  ...  residence_area_type\n",
              "0        649  ...                Rural\n",
              "1      81136  ...                Urban\n",
              "2      70762  ...                Urban\n",
              "3      53935  ...                Rural\n",
              "4      15476  ...                Rural\n",
              "...      ...  ...                  ...\n",
              "34219  81988  ...                Urban\n",
              "34220  30326  ...                Rural\n",
              "34221  65749  ...                Rural\n",
              "34222  65686  ...                Urban\n",
              "34223  93826  ...                Urban\n",
              "\n",
              "[34224 rows x 10 columns]"
            ]
          },
          "metadata": {
            "tags": []
          },
          "execution_count": 54
        }
      ]
    },
    {
      "cell_type": "code",
      "metadata": {
        "id": "vwfc2TcbwktR"
      },
      "source": [
        "test['Count_3-6_months_late'].fillna(test['Count_3-6_months_late'].median(), inplace=True)\n",
        "test['Count_6-12_months_late'].fillna(test['Count_6-12_months_late'].median(), inplace=True)\n",
        "test['Count_more_than_12_months_late'].fillna(test['Count_more_than_12_months_late'].median(), inplace=True)\n",
        "test['application_underwriting_score'].fillna(test['application_underwriting_score'].median(), inplace=True)"
      ],
      "execution_count": 28,
      "outputs": []
    },
    {
      "cell_type": "code",
      "metadata": {
        "colab": {
          "base_uri": "https://localhost:8080/",
          "height": 285
        },
        "id": "hUtZJOnaxGkI",
        "outputId": "38292db2-fb2f-4de4-b663-98169efb739c"
      },
      "source": [
        "test['age_in_days'].plot.box()"
      ],
      "execution_count": 29,
      "outputs": [
        {
          "output_type": "execute_result",
          "data": {
            "text/plain": [
              "<matplotlib.axes._subplots.AxesSubplot at 0x7fc9107ace10>"
            ]
          },
          "metadata": {
            "tags": []
          },
          "execution_count": 29
        },
        {
          "output_type": "display_data",
          "data": {
            "image/png": "[encoded data removed]",
            "text/plain": [
              "<Figure size 432x288 with 1 Axes>"
            ]
          },
          "metadata": {
            "tags": [],
            "needs_background": "light"
          }
        }
      ]
    },
    {
      "cell_type": "code",
      "metadata": {
        "id": "XCZjs48oxK4F"
      },
      "source": [
        "test.loc[test['age_in_days']>34200, 'age_in_days'] = np.mean(test['age_in_days'])"
      ],
      "execution_count": 30,
      "outputs": []
    },
    {
      "cell_type": "markdown",
      "metadata": {
        "id": "AHGa8ZGMObns"
      },
      "source": [
        "#**Model Building**\n",
        "##Logistic Regresion"
      ]
    },
    {
      "cell_type": "code",
      "metadata": {
        "id": "M_g9XIajOa51"
      },
      "source": [
        "#import scikit library for logistic regression\n",
        "from sklearn.linear_model import LogisticRegression"
      ],
      "execution_count": 31,
      "outputs": []
    },
    {
      "cell_type": "code",
      "metadata": {
        "id": "obHhXwJ9O_8Y"
      },
      "source": [
        "x = train.drop(\"target\", axis=1) #independent variables for train dataset \n",
        "y = train[\"target\"] #dependeant variable\n",
        "'''\n",
        "x_test = test_part.drop(\"target\",axis=1)  #independent variables  \n",
        "p_true = test_part[\"target\"]   #dependent variable\n",
        "'''\n",
        "from sklearn.model_selection import train_test_split\n",
        "x_train,x_valid,y_train,y_valid=train_test_split(x,y,test_size=0.2,random_state=0)"
      ],
      "execution_count": 33,
      "outputs": []
    },
    {
      "cell_type": "code",
      "metadata": {
        "colab": {
          "base_uri": "https://localhost:8080/"
        },
        "id": "kKZknos_l40j",
        "outputId": "38dc27c8-a3b4-4eee-9c5e-b65ef5c1f1fa"
      },
      "source": [
        "x_train.shape, x_valid.shape, y_train.shape, y_valid.shape"
      ],
      "execution_count": 34,
      "outputs": [
        {
          "output_type": "execute_result",
          "data": {
            "text/plain": [
              "((63882, 9), (15971, 9), (63882,), (15971,))"
            ]
          },
          "metadata": {
            "tags": []
          },
          "execution_count": 34
        }
      ]
    },
    {
      "cell_type": "code",
      "metadata": {
        "colab": {
          "base_uri": "https://localhost:8080/"
        },
        "id": "zKD-PPdJmHL1",
        "outputId": "1e75438f-ab5f-4c1a-d26f-a6b9fd590cb4"
      },
      "source": [
        "x_train.columns, x_valid.columns"
      ],
      "execution_count": 35,
      "outputs": [
        {
          "output_type": "execute_result",
          "data": {
            "text/plain": [
              "(Index(['perc_premium_paid_by_cash_credit', 'age_in_days', 'Income',\n",
              "        'Count_3-6_months_late', 'Count_6-12_months_late',\n",
              "        'Count_more_than_12_months_late', 'application_underwriting_score',\n",
              "        'no_of_premiums_paid', 'residence_area_type'],\n",
              "       dtype='object'),\n",
              " Index(['perc_premium_paid_by_cash_credit', 'age_in_days', 'Income',\n",
              "        'Count_3-6_months_late', 'Count_6-12_months_late',\n",
              "        'Count_more_than_12_months_late', 'application_underwriting_score',\n",
              "        'no_of_premiums_paid', 'residence_area_type'],\n",
              "       dtype='object'))"
            ]
          },
          "metadata": {
            "tags": []
          },
          "execution_count": 35
        }
      ]
    },
    {
      "cell_type": "code",
      "metadata": {
        "id": "uL4xdv4hFYF_"
      },
      "source": [
        "x_train = pd.get_dummies(x_train)"
      ],
      "execution_count": 36,
      "outputs": []
    },
    {
      "cell_type": "code",
      "metadata": {
        "id": "YUuaAt4KA8Y2"
      },
      "source": [
        "cat_cols=x_train.select_dtypes(include=['object']).columns.tolist()"
      ],
      "execution_count": 37,
      "outputs": []
    },
    {
      "cell_type": "code",
      "metadata": {
        "colab": {
          "base_uri": "https://localhost:8080/"
        },
        "id": "PL7otYXwBP9x",
        "outputId": "6c310a57-c2c5-4bd6-8549-b5160be42453"
      },
      "source": [
        "cat_cols"
      ],
      "execution_count": 38,
      "outputs": [
        {
          "output_type": "execute_result",
          "data": {
            "text/plain": [
              "[]"
            ]
          },
          "metadata": {
            "tags": []
          },
          "execution_count": 38
        }
      ]
    },
    {
      "cell_type": "code",
      "metadata": {
        "id": "Z3ojnJ8JlRxM"
      },
      "source": [
        "#train_y.value_counts(), true_p.value_counts()"
      ],
      "execution_count": null,
      "outputs": []
    },
    {
      "cell_type": "code",
      "metadata": {
        "id": "79p1zyz3Nj2f"
      },
      "source": [
        "from sklearn.compose import ColumnTransformer\n",
        "from sklearn.preprocessing import OneHotEncoder,MinMaxScaler\n",
        "ct=ColumnTransformer([\n",
        "    ('encode', OneHotEncoder(sparse=False,handle_unknown='ignore'),cat_cols)\n",
        "])"
      ],
      "execution_count": 39,
      "outputs": []
    },
    {
      "cell_type": "code",
      "metadata": {
        "id": "RmLirRXLQTmX"
      },
      "source": [
        "#logistic regression object\n",
        "logreg = LogisticRegression()"
      ],
      "execution_count": 40,
      "outputs": []
    },
    {
      "cell_type": "code",
      "metadata": {
        "colab": {
          "base_uri": "https://localhost:8080/"
        },
        "id": "7qccWQNmQhwz",
        "outputId": "7fc3c0a0-d642-421f-ddb7-277a1de85333"
      },
      "source": [
        "logreg.fit(x_train, y_train)"
      ],
      "execution_count": 41,
      "outputs": [
        {
          "output_type": "execute_result",
          "data": {
            "text/plain": [
              "LogisticRegression(C=1.0, class_weight=None, dual=False, fit_intercept=True,\n",
              "                   intercept_scaling=1, l1_ratio=None, max_iter=100,\n",
              "                   multi_class='auto', n_jobs=None, penalty='l2',\n",
              "                   random_state=None, solver='lbfgs', tol=0.0001, verbose=0,\n",
              "                   warm_start=False)"
            ]
          },
          "metadata": {
            "tags": []
          },
          "execution_count": 41
        }
      ]
    },
    {
      "cell_type": "code",
      "metadata": {
        "id": "t40-xFGjnRbT"
      },
      "source": [
        "x_valid = pd.get_dummies(x_valid)"
      ],
      "execution_count": 42,
      "outputs": []
    },
    {
      "cell_type": "code",
      "metadata": {
        "id": "jzfPdGY1R3tN"
      },
      "source": [
        "pred = logreg.predict(x_valid)"
      ],
      "execution_count": 43,
      "outputs": []
    },
    {
      "cell_type": "code",
      "metadata": {
        "id": "9h96Vu1aSXvo",
        "colab": {
          "base_uri": "https://localhost:8080/"
        },
        "outputId": "c4ed0983-0912-4310-bc7b-5ddc966b1302"
      },
      "source": [
        "logreg.score(x_valid, y_valid)"
      ],
      "execution_count": 44,
      "outputs": [
        {
          "output_type": "execute_result",
          "data": {
            "text/plain": [
              "0.938826623254649"
            ]
          },
          "metadata": {
            "tags": []
          },
          "execution_count": 44
        }
      ]
    },
    {
      "cell_type": "code",
      "metadata": {
        "id": "rg0k3x8mShMW",
        "colab": {
          "base_uri": "https://localhost:8080/"
        },
        "outputId": "bb12e322-5b9c-4d21-eed4-ba8f756407ef"
      },
      "source": [
        "logreg.score(x_train, y_train)"
      ],
      "execution_count": 45,
      "outputs": [
        {
          "output_type": "execute_result",
          "data": {
            "text/plain": [
              "0.9370558216712063"
            ]
          },
          "metadata": {
            "tags": []
          },
          "execution_count": 45
        }
      ]
    },
    {
      "cell_type": "code",
      "metadata": {
        "id": "Kn2JvvtvUPVo"
      },
      "source": [
        "def rmsle(y, y_):\n",
        "    log1 = np.nan_to_num(np.array([np.log(v + 1) for v in y]))\n",
        "    log2 = np.nan_to_num(np.array([np.log(v + 1) for v in y_]))\n",
        "    calc = (log1 - log2) ** 2\n",
        "    return np.sqrt(np.mean(calc))"
      ],
      "execution_count": 46,
      "outputs": []
    },
    {
      "cell_type": "code",
      "metadata": {
        "id": "xLHw724XUZsW",
        "colab": {
          "base_uri": "https://localhost:8080/"
        },
        "outputId": "d96d2bab-7642-489a-dde3-1bb2d554bedd"
      },
      "source": [
        "rmsle(y_valid, pred)"
      ],
      "execution_count": 47,
      "outputs": [
        {
          "output_type": "execute_result",
          "data": {
            "text/plain": [
              "0.171437840714521"
            ]
          },
          "metadata": {
            "tags": []
          },
          "execution_count": 47
        }
      ]
    },
    {
      "cell_type": "markdown",
      "metadata": {
        "id": "XxcFM2mFo6ju"
      },
      "source": [
        "##decision tree\n"
      ]
    },
    {
      "cell_type": "code",
      "metadata": {
        "id": "rjsmz1zLW83X"
      },
      "source": [
        "from sklearn.tree import DecisionTreeRegressor"
      ],
      "execution_count": 48,
      "outputs": []
    },
    {
      "cell_type": "code",
      "metadata": {
        "id": "UYJNiiQDXMLz"
      },
      "source": [
        "dt_reg = DecisionTreeRegressor(max_depth=3,min_samples_leaf=6)"
      ],
      "execution_count": 49,
      "outputs": []
    },
    {
      "cell_type": "code",
      "metadata": {
        "id": "2QmKnsbzXe-Y",
        "colab": {
          "base_uri": "https://localhost:8080/"
        },
        "outputId": "d77bc13e-693d-45df-f53b-90f625cf6669"
      },
      "source": [
        "dt_reg.fit(x_train, y_train)"
      ],
      "execution_count": 50,
      "outputs": [
        {
          "output_type": "execute_result",
          "data": {
            "text/plain": [
              "DecisionTreeRegressor(ccp_alpha=0.0, criterion='mse', max_depth=3,\n",
              "                      max_features=None, max_leaf_nodes=None,\n",
              "                      min_impurity_decrease=0.0, min_impurity_split=None,\n",
              "                      min_samples_leaf=6, min_samples_split=2,\n",
              "                      min_weight_fraction_leaf=0.0, presort='deprecated',\n",
              "                      random_state=None, splitter='best')"
            ]
          },
          "metadata": {
            "tags": []
          },
          "execution_count": 50
        }
      ]
    },
    {
      "cell_type": "code",
      "metadata": {
        "id": "hhC6l2EYX2m9"
      },
      "source": [
        "predict2 = dt_reg.predict(x_valid)"
      ],
      "execution_count": 51,
      "outputs": []
    },
    {
      "cell_type": "code",
      "metadata": {
        "id": "4OikaU6kYHBe",
        "colab": {
          "base_uri": "https://localhost:8080/"
        },
        "outputId": "ad48084d-ed61-428f-a76b-454551129648"
      },
      "source": [
        "rmsle(y_valid, predict2)"
      ],
      "execution_count": 52,
      "outputs": [
        {
          "output_type": "execute_result",
          "data": {
            "text/plain": [
              "0.1549330393871767"
            ]
          },
          "metadata": {
            "tags": []
          },
          "execution_count": 52
        }
      ]
    },
    {
      "cell_type": "code",
      "metadata": {
        "id": "UK0H9W3yzszO"
      },
      "source": [
        "test.drop(['id', 'sourcing_channel'], axis=1, inplace=True)\n"
      ],
      "execution_count": 59,
      "outputs": []
    },
    {
      "cell_type": "code",
      "metadata": {
        "colab": {
          "base_uri": "https://localhost:8080/"
        },
        "id": "yXpzOevbz8RN",
        "outputId": "3cbddf27-3de4-42d0-d91c-ec0298d977b5"
      },
      "source": [
        "test.columns"
      ],
      "execution_count": 65,
      "outputs": [
        {
          "output_type": "execute_result",
          "data": {
            "text/plain": [
              "Index(['perc_premium_paid_by_cash_credit', 'age_in_days', 'Income',\n",
              "       'Count_3-6_months_late', 'Count_6-12_months_late',\n",
              "       'Count_more_than_12_months_late', 'application_underwriting_score',\n",
              "       'no_of_premiums_paid', 'residence_area_type_Rural',\n",
              "       'residence_area_type_Urban'],\n",
              "      dtype='object')"
            ]
          },
          "metadata": {
            "tags": []
          },
          "execution_count": 65
        }
      ]
    },
    {
      "cell_type": "code",
      "metadata": {
        "id": "le22tBX51Klg"
      },
      "source": [
        "test = pd.get_dummies(test)"
      ],
      "execution_count": 64,
      "outputs": []
    },
    {
      "cell_type": "code",
      "metadata": {
        "id": "mloOpzWqo51c"
      },
      "source": [
        "test_pred = dt_reg.predict(test)"
      ],
      "execution_count": 66,
      "outputs": []
    },
    {
      "cell_type": "code",
      "metadata": {
        "id": "M8uOh_0SxLi-"
      },
      "source": [
        "#final_prediction = np.exp(predict2)"
      ],
      "execution_count": null,
      "outputs": []
    },
    {
      "cell_type": "code",
      "metadata": {
        "id": "xR7Iry3umV8C"
      },
      "source": [
        "#print(predict2[:300])"
      ],
      "execution_count": null,
      "outputs": []
    },
    {
      "cell_type": "code",
      "metadata": {
        "id": "NNC_uWzTxe-T"
      },
      "source": [
        "sample_submission = pd.read_csv('/content/drive/MyDrive/Colab Notebooks/Internshala+AV Project/sample_submission.csv')"
      ],
      "execution_count": 67,
      "outputs": []
    },
    {
      "cell_type": "code",
      "metadata": {
        "colab": {
          "base_uri": "https://localhost:8080/"
        },
        "id": "pM6mhGwRtOtr",
        "outputId": "aa10ab4e-f4fe-45a6-8015-5caeb50781ff"
      },
      "source": [
        "sample_submission.shape, len(test_pred)"
      ],
      "execution_count": 68,
      "outputs": [
        {
          "output_type": "execute_result",
          "data": {
            "text/plain": [
              "((34224, 2), 34224)"
            ]
          },
          "metadata": {
            "tags": []
          },
          "execution_count": 68
        }
      ]
    },
    {
      "cell_type": "code",
      "metadata": {
        "id": "lx-G-EagyQBv"
      },
      "source": [
        "sample_submission['target'] = test_pred"
      ],
      "execution_count": 69,
      "outputs": []
    },
    {
      "cell_type": "code",
      "metadata": {
        "id": "v7JLFb0Hy9l0"
      },
      "source": [
        "sample_submission.to_csv(\"sample_submission.csv\", header=True, index=False)"
      ],
      "execution_count": 70,
      "outputs": []
    },
    {
      "cell_type": "code",
      "metadata": {
        "colab": {
          "base_uri": "https://localhost:8080/",
          "height": 205
        },
        "id": "9PkJgPlGuPY7",
        "outputId": "a44e1819-d196-4dc3-80b3-19d048117d5c"
      },
      "source": [
        "sample_submission.tail()"
      ],
      "execution_count": 71,
      "outputs": [
        {
          "output_type": "execute_result",
          "data": {
            "text/html": [
              "<div>\n",
              "<style scoped>\n",
              "    .dataframe tbody tr th:only-of-type {\n",
              "        vertical-align: middle;\n",
              "    }\n",
              "\n",
              "    .dataframe tbody tr th {\n",
              "        vertical-align: top;\n",
              "    }\n",
              "\n",
              "    .dataframe thead th {\n",
              "        text-align: right;\n",
              "    }\n",
              "</style>\n",
              "<table border=\"1\" class=\"dataframe\">\n",
              "  <thead>\n",
              "    <tr style=\"text-align: right;\">\n",
              "      <th></th>\n",
              "      <th>id</th>\n",
              "      <th>target</th>\n",
              "    </tr>\n",
              "  </thead>\n",
              "  <tbody>\n",
              "    <tr>\n",
              "      <th>34219</th>\n",
              "      <td>81988</td>\n",
              "      <td>0.975903</td>\n",
              "    </tr>\n",
              "    <tr>\n",
              "      <th>34220</th>\n",
              "      <td>30326</td>\n",
              "      <td>0.975903</td>\n",
              "    </tr>\n",
              "    <tr>\n",
              "      <th>34221</th>\n",
              "      <td>65749</td>\n",
              "      <td>0.975903</td>\n",
              "    </tr>\n",
              "    <tr>\n",
              "      <th>34222</th>\n",
              "      <td>65686</td>\n",
              "      <td>0.780617</td>\n",
              "    </tr>\n",
              "    <tr>\n",
              "      <th>34223</th>\n",
              "      <td>93826</td>\n",
              "      <td>0.975903</td>\n",
              "    </tr>\n",
              "  </tbody>\n",
              "</table>\n",
              "</div>"
            ],
            "text/plain": [
              "          id    target\n",
              "34219  81988  0.975903\n",
              "34220  30326  0.975903\n",
              "34221  65749  0.975903\n",
              "34222  65686  0.780617\n",
              "34223  93826  0.975903"
            ]
          },
          "metadata": {
            "tags": []
          },
          "execution_count": 71
        }
      ]
    },
    {
      "cell_type": "code",
      "metadata": {
        "id": "odp_3yi_itno",
        "colab": {
          "base_uri": "https://localhost:8080/",
          "height": 205
        },
        "outputId": "7d78965c-76e8-42ae-92dd-c79b6c0ac000"
      },
      "source": [
        "sample_submission.head()"
      ],
      "execution_count": 72,
      "outputs": [
        {
          "output_type": "execute_result",
          "data": {
            "text/html": [
              "<div>\n",
              "<style scoped>\n",
              "    .dataframe tbody tr th:only-of-type {\n",
              "        vertical-align: middle;\n",
              "    }\n",
              "\n",
              "    .dataframe tbody tr th {\n",
              "        vertical-align: top;\n",
              "    }\n",
              "\n",
              "    .dataframe thead th {\n",
              "        text-align: right;\n",
              "    }\n",
              "</style>\n",
              "<table border=\"1\" class=\"dataframe\">\n",
              "  <thead>\n",
              "    <tr style=\"text-align: right;\">\n",
              "      <th></th>\n",
              "      <th>id</th>\n",
              "      <th>target</th>\n",
              "    </tr>\n",
              "  </thead>\n",
              "  <tbody>\n",
              "    <tr>\n",
              "      <th>0</th>\n",
              "      <td>649</td>\n",
              "      <td>0.975903</td>\n",
              "    </tr>\n",
              "    <tr>\n",
              "      <th>1</th>\n",
              "      <td>81136</td>\n",
              "      <td>0.975903</td>\n",
              "    </tr>\n",
              "    <tr>\n",
              "      <th>2</th>\n",
              "      <td>70762</td>\n",
              "      <td>0.911224</td>\n",
              "    </tr>\n",
              "    <tr>\n",
              "      <th>3</th>\n",
              "      <td>53935</td>\n",
              "      <td>0.975903</td>\n",
              "    </tr>\n",
              "    <tr>\n",
              "      <th>4</th>\n",
              "      <td>15476</td>\n",
              "      <td>0.975903</td>\n",
              "    </tr>\n",
              "  </tbody>\n",
              "</table>\n",
              "</div>"
            ],
            "text/plain": [
              "      id    target\n",
              "0    649  0.975903\n",
              "1  81136  0.975903\n",
              "2  70762  0.911224\n",
              "3  53935  0.975903\n",
              "4  15476  0.975903"
            ]
          },
          "metadata": {
            "tags": []
          },
          "execution_count": 72
        }
      ]
    }
  ]
}